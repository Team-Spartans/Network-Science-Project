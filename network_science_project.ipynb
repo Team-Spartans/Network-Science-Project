{
  "nbformat": 4,
  "nbformat_minor": 0,
  "metadata": {
    "colab": {
      "name": "network_science_project.ipynb",
      "provenance": [],
      "collapsed_sections": []
    },
    "kernelspec": {
      "name": "python3",
      "display_name": "Python 3"
    },
    "language_info": {
      "name": "python"
    }
  },
  "cells": [
    {
      "cell_type": "code",
      "execution_count": 1,
      "metadata": {
        "colab": {
          "base_uri": "https://localhost:8080/"
        },
        "id": "7QxC6JSChvgP",
        "outputId": "62b1eb5d-3e0e-4170-aeca-a9f531a25721"
      },
      "outputs": [
        {
          "output_type": "stream",
          "name": "stdout",
          "text": [
            "Mounted at /content/drive\n"
          ]
        }
      ],
      "source": [
        "from google.colab import drive\n",
        "drive.mount('/content/drive')"
      ]
    },
    {
      "cell_type": "markdown",
      "source": [
        "## Importing packages"
      ],
      "metadata": {
        "id": "Vhv_YARSjRB2"
      }
    },
    {
      "cell_type": "code",
      "source": [
        "import pandas as pd\n",
        "import networkx as nx"
      ],
      "metadata": {
        "id": "U5mvjhxujHZM"
      },
      "execution_count": 2,
      "outputs": []
    },
    {
      "cell_type": "code",
      "source": [
        "# !ls \"/content/drive/MyDrive/Network Science Project Files\"\n"
      ],
      "metadata": {
        "id": "UVL1ZPnhimIj"
      },
      "execution_count": 3,
      "outputs": []
    },
    {
      "cell_type": "code",
      "source": [
        "file_path = \"/content/drive/MyDrive/Network Science Project Files\""
      ],
      "metadata": {
        "id": "jnj_8hqAjOrZ"
      },
      "execution_count": 4,
      "outputs": []
    },
    {
      "cell_type": "code",
      "source": [
        "df = pd.read_csv(file_path+'/all_records.csv')"
      ],
      "metadata": {
        "colab": {
          "base_uri": "https://localhost:8080/"
        },
        "id": "IOZkcJHhiXu-",
        "outputId": "3b0bf9e3-4c2d-4b42-a1ac-9c54c1910532"
      },
      "execution_count": 5,
      "outputs": [
        {
          "output_type": "stream",
          "name": "stderr",
          "text": [
            "/usr/local/lib/python3.7/dist-packages/IPython/core/interactiveshell.py:2882: DtypeWarning: Columns (20,21,22,32) have mixed types.Specify dtype option on import or set low_memory=False.\n",
            "  exec(code_obj, self.user_global_ns, self.user_ns)\n"
          ]
        }
      ]
    },
    {
      "cell_type": "code",
      "source": [
        "# df.head()"
      ],
      "metadata": {
        "id": "J7n7bb1xip36"
      },
      "execution_count": 6,
      "outputs": []
    },
    {
      "cell_type": "code",
      "source": [
        "df.columns = list(map(str.strip, df.columns))"
      ],
      "metadata": {
        "id": "bRQ5KXrppC0o"
      },
      "execution_count": 7,
      "outputs": []
    },
    {
      "cell_type": "code",
      "source": [
        "df['NORMED?'] = df['NORMED?'].str.strip()\n",
        "df['CUE'] = df['CUE'].str.strip()\n",
        "df['TARGET'] = df['TARGET'].str.strip()"
      ],
      "metadata": {
        "id": "6w2iQtWKpM5j"
      },
      "execution_count": 8,
      "outputs": []
    },
    {
      "cell_type": "code",
      "source": [
        "df = df[df['NORMED?']=='YES']"
      ],
      "metadata": {
        "id": "sUyPSqVqsrj3"
      },
      "execution_count": 9,
      "outputs": []
    },
    {
      "cell_type": "code",
      "source": [
        "df = df[['CUE','TARGET','NORMED?','#G','#P','FSG','BSG','QPS','TPS']]"
      ],
      "metadata": {
        "id": "qX2mEwnqwJL1"
      },
      "execution_count": 10,
      "outputs": []
    },
    {
      "cell_type": "markdown",
      "source": [
        "* CUE\tNormed Word\n",
        "* TARGET\tResponse to Normed Word\n",
        "* NORMED?\tIs Response Normed?\n",
        "* \\#G\tGroup size\n",
        "* \\#P\tNumber of Participants Producing Response\n",
        "* FSG\tForward Cue-to-Target Strength\n",
        "* BSG\tBackward Target-to-Cue Strength\n",
        "* QPS\tCue: Part of Speech\n",
        "* TPS\tTarget: Part of Speech\n",
        "\n",
        "\n",
        "\n"
      ],
      "metadata": {
        "id": "QrnOQGq0lIu6"
      }
    },
    {
      "cell_type": "code",
      "source": [
        "## filtering POS for CUES and TARGETS to be, nouns verbs and adjectives\n",
        "exclude_list = ['PP','AV','ADV','P','I','C']\n",
        "df1 = df[~df['QPS'].str.contains('|'.join(exclude_list))]\n",
        "df1['TPS'] = df1['TPS'].dropna()\n",
        "df1 = df1[df1['TPS']!=' ']"
      ],
      "metadata": {
        "colab": {
          "base_uri": "https://localhost:8080/"
        },
        "id": "7kpqwz0C0O97",
        "outputId": "e0c3be42-20da-4855-a434-c9980a2a82af"
      },
      "execution_count": 11,
      "outputs": [
        {
          "output_type": "stream",
          "name": "stderr",
          "text": [
            "/usr/local/lib/python3.7/dist-packages/ipykernel_launcher.py:4: SettingWithCopyWarning: \n",
            "A value is trying to be set on a copy of a slice from a DataFrame.\n",
            "Try using .loc[row_indexer,col_indexer] = value instead\n",
            "\n",
            "See the caveats in the documentation: https://pandas.pydata.org/pandas-docs/stable/user_guide/indexing.html#returning-a-view-versus-a-copy\n",
            "  after removing the cwd from sys.path.\n"
          ]
        }
      ]
    },
    {
      "cell_type": "markdown",
      "source": [
        "* N\tNoun\n",
        "* V\tVerb\n",
        "* AJ\tAdjective\n",
        "* AD\tAdverb\n",
        "* P\tPronoun\n",
        "* PP\tPreposition\n",
        "* I\tInterjection\n",
        "* C\tConjunction"
      ],
      "metadata": {
        "id": "9jGS547fvJZ-"
      }
    },
    {
      "cell_type": "code",
      "source": [
        "df1['BSG'] = df1['BSG'].astype(float)"
      ],
      "metadata": {
        "id": "bMm4pIz8D3QP"
      },
      "execution_count": 12,
      "outputs": []
    },
    {
      "cell_type": "markdown",
      "source": [
        "Filtering BSG to be 0 and the number of participants to be more than 2"
      ],
      "metadata": {
        "id": "AIttQebeCFrA"
      }
    },
    {
      "cell_type": "code",
      "source": [
        "df1_n_bsg = df1[df1['BSG']==0]\n",
        "df1_n_bsg = df1_n_bsg[df1_n_bsg['#P']>2]"
      ],
      "metadata": {
        "id": "J76HBEDyx790"
      },
      "execution_count": 13,
      "outputs": []
    },
    {
      "cell_type": "code",
      "source": [
        ""
      ],
      "metadata": {
        "id": "TYdvf-scBfte"
      },
      "execution_count": 20,
      "outputs": []
    },
    {
      "cell_type": "markdown",
      "source": [
        "## Graph for the Cues starting with letter A"
      ],
      "metadata": {
        "id": "DeVHM8oTB5hZ"
      }
    },
    {
      "cell_type": "code",
      "source": [
        "# df1_n_bsg_a_b = df1_n_bsg[(df1_n_bsg['CUE'].str.startswith('A')) | (df1_n_bsg['CUE'].str.startswith('B'))]\n",
        "df1_n_bsg_a = df1_n_bsg[(df1_n_bsg['CUE'].str.startswith('A'))]"
      ],
      "metadata": {
        "id": "JG2dCeeMmY5Z"
      },
      "execution_count": 14,
      "outputs": []
    },
    {
      "cell_type": "code",
      "source": [
        "lst = list(set(list(df1_n_bsg_a['CUE'])+list(df1_n_bsg_a['TARGET'])))"
      ],
      "metadata": {
        "id": "uIezT9tjIEzb"
      },
      "execution_count": 15,
      "outputs": []
    },
    {
      "cell_type": "code",
      "source": [
        ""
      ],
      "metadata": {
        "id": "gt7dYRqkDEqU"
      },
      "execution_count": null,
      "outputs": []
    },
    {
      "cell_type": "code",
      "source": [
        ""
      ],
      "metadata": {
        "id": "QtyV7qLMInRt"
      },
      "execution_count": 16,
      "outputs": []
    },
    {
      "cell_type": "code",
      "source": [
        "G = nx.Graph()\n",
        "for n in lst:\n",
        "  G.add_node(n)\n",
        "for row in df1_n_bsg_a.itertuples():\n",
        "  # print(row.CUE)\n",
        "  G.add_edge(row.CUE,row.TARGET)"
      ],
      "metadata": {
        "id": "hWdRgY_9InT1"
      },
      "execution_count": 17,
      "outputs": []
    },
    {
      "cell_type": "code",
      "source": [
        ""
      ],
      "metadata": {
        "id": "RwG-fwW5InW3"
      },
      "execution_count": null,
      "outputs": []
    },
    {
      "cell_type": "code",
      "source": [
        "nx.write_gml(G,'cue_target.gml')"
      ],
      "metadata": {
        "id": "qxa0VystQzAH"
      },
      "execution_count": null,
      "outputs": []
    },
    {
      "cell_type": "code",
      "source": [
        ""
      ],
      "metadata": {
        "id": "m1CZ459JInav"
      },
      "execution_count": null,
      "outputs": []
    },
    {
      "cell_type": "code",
      "source": [
        ""
      ],
      "metadata": {
        "id": "v6OIMFs-Inc1"
      },
      "execution_count": null,
      "outputs": []
    },
    {
      "cell_type": "markdown",
      "source": [
        "## Generating Graph for the the Parts of Speech of the Cues and the Target - Cues are already filtered for Nouns, Verbs and Adjectives"
      ],
      "metadata": {
        "id": "iYyBNBMRCgoB"
      }
    },
    {
      "cell_type": "code",
      "source": [
        "df1"
      ],
      "metadata": {
        "colab": {
          "base_uri": "https://localhost:8080/",
          "height": 419
        },
        "id": "NE2MewqCCwpb",
        "outputId": "b7014b38-0e13-46d5-8a52-6c60bd3323c1"
      },
      "execution_count": 22,
      "outputs": [
        {
          "output_type": "execute_result",
          "data": {
            "text/plain": [
              "            CUE    TARGET NORMED?   #G  #P    FSG    BSG QPS  TPS\n",
              "1             A  ALPHABET     YES  152  10  0.066  0.046   N    N\n",
              "3             A     GRADE     YES  152   9  0.059  0.277   N    N\n",
              "4             A    LETTER     YES  152   6  0.039  0.000   N    N\n",
              "5             A      PLUS     YES  152   5  0.033  0.000   N   PP\n",
              "9             A     APPLE     YES  152   2  0.013  0.000   N    V\n",
              "...         ...       ...     ...  ...  ..    ...    ...  ..  ...\n",
              "63819  ZUCCHINI     BREAD     YES  148   2  0.014  0.000   N    N\n",
              "63821  ZUCCHINI     FRUIT     YES  148   2  0.014  0.000   N    N\n",
              "63822  ZUCCHINI     GROSS     YES  148   2  0.014  0.000   N   AJ\n",
              "63823  ZUCCHINI   ITALIAN     YES  148   2  0.014  0.000   N   AJ\n",
              "63824  ZUCCHINI      YUCK     YES  148   2  0.014  0.000   N    I\n",
              "\n",
              "[55894 rows x 9 columns]"
            ],
            "text/html": [
              "\n",
              "  <div id=\"df-751c72c4-b3a9-4606-9d27-ce92d261d6ec\">\n",
              "    <div class=\"colab-df-container\">\n",
              "      <div>\n",
              "<style scoped>\n",
              "    .dataframe tbody tr th:only-of-type {\n",
              "        vertical-align: middle;\n",
              "    }\n",
              "\n",
              "    .dataframe tbody tr th {\n",
              "        vertical-align: top;\n",
              "    }\n",
              "\n",
              "    .dataframe thead th {\n",
              "        text-align: right;\n",
              "    }\n",
              "</style>\n",
              "<table border=\"1\" class=\"dataframe\">\n",
              "  <thead>\n",
              "    <tr style=\"text-align: right;\">\n",
              "      <th></th>\n",
              "      <th>CUE</th>\n",
              "      <th>TARGET</th>\n",
              "      <th>NORMED?</th>\n",
              "      <th>#G</th>\n",
              "      <th>#P</th>\n",
              "      <th>FSG</th>\n",
              "      <th>BSG</th>\n",
              "      <th>QPS</th>\n",
              "      <th>TPS</th>\n",
              "    </tr>\n",
              "  </thead>\n",
              "  <tbody>\n",
              "    <tr>\n",
              "      <th>1</th>\n",
              "      <td>A</td>\n",
              "      <td>ALPHABET</td>\n",
              "      <td>YES</td>\n",
              "      <td>152</td>\n",
              "      <td>10</td>\n",
              "      <td>0.066</td>\n",
              "      <td>0.046</td>\n",
              "      <td>N</td>\n",
              "      <td>N</td>\n",
              "    </tr>\n",
              "    <tr>\n",
              "      <th>3</th>\n",
              "      <td>A</td>\n",
              "      <td>GRADE</td>\n",
              "      <td>YES</td>\n",
              "      <td>152</td>\n",
              "      <td>9</td>\n",
              "      <td>0.059</td>\n",
              "      <td>0.277</td>\n",
              "      <td>N</td>\n",
              "      <td>N</td>\n",
              "    </tr>\n",
              "    <tr>\n",
              "      <th>4</th>\n",
              "      <td>A</td>\n",
              "      <td>LETTER</td>\n",
              "      <td>YES</td>\n",
              "      <td>152</td>\n",
              "      <td>6</td>\n",
              "      <td>0.039</td>\n",
              "      <td>0.000</td>\n",
              "      <td>N</td>\n",
              "      <td>N</td>\n",
              "    </tr>\n",
              "    <tr>\n",
              "      <th>5</th>\n",
              "      <td>A</td>\n",
              "      <td>PLUS</td>\n",
              "      <td>YES</td>\n",
              "      <td>152</td>\n",
              "      <td>5</td>\n",
              "      <td>0.033</td>\n",
              "      <td>0.000</td>\n",
              "      <td>N</td>\n",
              "      <td>PP</td>\n",
              "    </tr>\n",
              "    <tr>\n",
              "      <th>9</th>\n",
              "      <td>A</td>\n",
              "      <td>APPLE</td>\n",
              "      <td>YES</td>\n",
              "      <td>152</td>\n",
              "      <td>2</td>\n",
              "      <td>0.013</td>\n",
              "      <td>0.000</td>\n",
              "      <td>N</td>\n",
              "      <td>V</td>\n",
              "    </tr>\n",
              "    <tr>\n",
              "      <th>...</th>\n",
              "      <td>...</td>\n",
              "      <td>...</td>\n",
              "      <td>...</td>\n",
              "      <td>...</td>\n",
              "      <td>...</td>\n",
              "      <td>...</td>\n",
              "      <td>...</td>\n",
              "      <td>...</td>\n",
              "      <td>...</td>\n",
              "    </tr>\n",
              "    <tr>\n",
              "      <th>63819</th>\n",
              "      <td>ZUCCHINI</td>\n",
              "      <td>BREAD</td>\n",
              "      <td>YES</td>\n",
              "      <td>148</td>\n",
              "      <td>2</td>\n",
              "      <td>0.014</td>\n",
              "      <td>0.000</td>\n",
              "      <td>N</td>\n",
              "      <td>N</td>\n",
              "    </tr>\n",
              "    <tr>\n",
              "      <th>63821</th>\n",
              "      <td>ZUCCHINI</td>\n",
              "      <td>FRUIT</td>\n",
              "      <td>YES</td>\n",
              "      <td>148</td>\n",
              "      <td>2</td>\n",
              "      <td>0.014</td>\n",
              "      <td>0.000</td>\n",
              "      <td>N</td>\n",
              "      <td>N</td>\n",
              "    </tr>\n",
              "    <tr>\n",
              "      <th>63822</th>\n",
              "      <td>ZUCCHINI</td>\n",
              "      <td>GROSS</td>\n",
              "      <td>YES</td>\n",
              "      <td>148</td>\n",
              "      <td>2</td>\n",
              "      <td>0.014</td>\n",
              "      <td>0.000</td>\n",
              "      <td>N</td>\n",
              "      <td>AJ</td>\n",
              "    </tr>\n",
              "    <tr>\n",
              "      <th>63823</th>\n",
              "      <td>ZUCCHINI</td>\n",
              "      <td>ITALIAN</td>\n",
              "      <td>YES</td>\n",
              "      <td>148</td>\n",
              "      <td>2</td>\n",
              "      <td>0.014</td>\n",
              "      <td>0.000</td>\n",
              "      <td>N</td>\n",
              "      <td>AJ</td>\n",
              "    </tr>\n",
              "    <tr>\n",
              "      <th>63824</th>\n",
              "      <td>ZUCCHINI</td>\n",
              "      <td>YUCK</td>\n",
              "      <td>YES</td>\n",
              "      <td>148</td>\n",
              "      <td>2</td>\n",
              "      <td>0.014</td>\n",
              "      <td>0.000</td>\n",
              "      <td>N</td>\n",
              "      <td>I</td>\n",
              "    </tr>\n",
              "  </tbody>\n",
              "</table>\n",
              "<p>55894 rows × 9 columns</p>\n",
              "</div>\n",
              "      <button class=\"colab-df-convert\" onclick=\"convertToInteractive('df-751c72c4-b3a9-4606-9d27-ce92d261d6ec')\"\n",
              "              title=\"Convert this dataframe to an interactive table.\"\n",
              "              style=\"display:none;\">\n",
              "        \n",
              "  <svg xmlns=\"http://www.w3.org/2000/svg\" height=\"24px\"viewBox=\"0 0 24 24\"\n",
              "       width=\"24px\">\n",
              "    <path d=\"M0 0h24v24H0V0z\" fill=\"none\"/>\n",
              "    <path d=\"M18.56 5.44l.94 2.06.94-2.06 2.06-.94-2.06-.94-.94-2.06-.94 2.06-2.06.94zm-11 1L8.5 8.5l.94-2.06 2.06-.94-2.06-.94L8.5 2.5l-.94 2.06-2.06.94zm10 10l.94 2.06.94-2.06 2.06-.94-2.06-.94-.94-2.06-.94 2.06-2.06.94z\"/><path d=\"M17.41 7.96l-1.37-1.37c-.4-.4-.92-.59-1.43-.59-.52 0-1.04.2-1.43.59L10.3 9.45l-7.72 7.72c-.78.78-.78 2.05 0 2.83L4 21.41c.39.39.9.59 1.41.59.51 0 1.02-.2 1.41-.59l7.78-7.78 2.81-2.81c.8-.78.8-2.07 0-2.86zM5.41 20L4 18.59l7.72-7.72 1.47 1.35L5.41 20z\"/>\n",
              "  </svg>\n",
              "      </button>\n",
              "      \n",
              "  <style>\n",
              "    .colab-df-container {\n",
              "      display:flex;\n",
              "      flex-wrap:wrap;\n",
              "      gap: 12px;\n",
              "    }\n",
              "\n",
              "    .colab-df-convert {\n",
              "      background-color: #E8F0FE;\n",
              "      border: none;\n",
              "      border-radius: 50%;\n",
              "      cursor: pointer;\n",
              "      display: none;\n",
              "      fill: #1967D2;\n",
              "      height: 32px;\n",
              "      padding: 0 0 0 0;\n",
              "      width: 32px;\n",
              "    }\n",
              "\n",
              "    .colab-df-convert:hover {\n",
              "      background-color: #E2EBFA;\n",
              "      box-shadow: 0px 1px 2px rgba(60, 64, 67, 0.3), 0px 1px 3px 1px rgba(60, 64, 67, 0.15);\n",
              "      fill: #174EA6;\n",
              "    }\n",
              "\n",
              "    [theme=dark] .colab-df-convert {\n",
              "      background-color: #3B4455;\n",
              "      fill: #D2E3FC;\n",
              "    }\n",
              "\n",
              "    [theme=dark] .colab-df-convert:hover {\n",
              "      background-color: #434B5C;\n",
              "      box-shadow: 0px 1px 3px 1px rgba(0, 0, 0, 0.15);\n",
              "      filter: drop-shadow(0px 1px 2px rgba(0, 0, 0, 0.3));\n",
              "      fill: #FFFFFF;\n",
              "    }\n",
              "  </style>\n",
              "\n",
              "      <script>\n",
              "        const buttonEl =\n",
              "          document.querySelector('#df-751c72c4-b3a9-4606-9d27-ce92d261d6ec button.colab-df-convert');\n",
              "        buttonEl.style.display =\n",
              "          google.colab.kernel.accessAllowed ? 'block' : 'none';\n",
              "\n",
              "        async function convertToInteractive(key) {\n",
              "          const element = document.querySelector('#df-751c72c4-b3a9-4606-9d27-ce92d261d6ec');\n",
              "          const dataTable =\n",
              "            await google.colab.kernel.invokeFunction('convertToInteractive',\n",
              "                                                     [key], {});\n",
              "          if (!dataTable) return;\n",
              "\n",
              "          const docLinkHtml = 'Like what you see? Visit the ' +\n",
              "            '<a target=\"_blank\" href=https://colab.research.google.com/notebooks/data_table.ipynb>data table notebook</a>'\n",
              "            + ' to learn more about interactive tables.';\n",
              "          element.innerHTML = '';\n",
              "          dataTable['output_type'] = 'display_data';\n",
              "          await google.colab.output.renderOutput(dataTable, element);\n",
              "          const docLink = document.createElement('div');\n",
              "          docLink.innerHTML = docLinkHtml;\n",
              "          element.appendChild(docLink);\n",
              "        }\n",
              "      </script>\n",
              "    </div>\n",
              "  </div>\n",
              "  "
            ]
          },
          "metadata": {},
          "execution_count": 22
        }
      ]
    },
    {
      "cell_type": "code",
      "source": [
        "df1['TPS'] = df1['TPS'].astype('object')\n",
        "df1['TPS'] = df1['TPS'].str.strip()\n"
      ],
      "metadata": {
        "id": "GzbYmg9AFamA"
      },
      "execution_count": 84,
      "outputs": []
    },
    {
      "cell_type": "code",
      "source": [
        "df1.dtypes"
      ],
      "metadata": {
        "colab": {
          "base_uri": "https://localhost:8080/"
        },
        "id": "u6XUTKJZGIRj",
        "outputId": "625f4a4f-0104-4186-f879-184c6bd9b755"
      },
      "execution_count": 85,
      "outputs": [
        {
          "output_type": "execute_result",
          "data": {
            "text/plain": [
              "CUE         object\n",
              "TARGET      object\n",
              "NORMED?     object\n",
              "#G           int64\n",
              "#P           int64\n",
              "FSG        float64\n",
              "BSG        float64\n",
              "QPS         object\n",
              "TPS         object\n",
              "dtype: object"
            ]
          },
          "metadata": {},
          "execution_count": 85
        }
      ]
    },
    {
      "cell_type": "code",
      "source": [
        "df1['TPS'].value_counts()"
      ],
      "metadata": {
        "colab": {
          "base_uri": "https://localhost:8080/"
        },
        "id": "vrlr8X3GFpFq",
        "outputId": "f91c5664-9faa-4c56-a3e1-463a24a9828c"
      },
      "execution_count": 93,
      "outputs": [
        {
          "output_type": "execute_result",
          "data": {
            "text/plain": [
              "N      36211\n",
              "AJ      9153\n",
              "V       8980\n",
              "AD       860\n",
              "ADJ      240\n",
              "P        184\n",
              "PP       128\n",
              "I         78\n",
              "AV        11\n",
              "INT        9\n",
              "C          8\n",
              "ADV        6\n",
              "PRP        4\n",
              "Name: TPS, dtype: int64"
            ]
          },
          "metadata": {},
          "execution_count": 93
        }
      ]
    },
    {
      "cell_type": "code",
      "source": [
        "df1 = df1.dropna()"
      ],
      "metadata": {
        "id": "ih0fTVgMGPS_"
      },
      "execution_count": 87,
      "outputs": []
    },
    {
      "cell_type": "code",
      "source": [
        "df1['TPS'] = df1['TPS'].astype(str)"
      ],
      "metadata": {
        "id": "vg9aSu6SHfKU"
      },
      "execution_count": 88,
      "outputs": []
    },
    {
      "cell_type": "code",
      "source": [
        "include_list = ['N','V','AJ','AD','P','PP','I','C']\n",
        "df1 = df1[df1['TPS'].str.contains('|'.join(include_list))]"
      ],
      "metadata": {
        "id": "vzvTu_EpFBkq"
      },
      "execution_count": 89,
      "outputs": []
    },
    {
      "cell_type": "code",
      "source": [
        "d = {}\n",
        "for row in df1.itertuples():\n",
        "  # print(row.TPS)\n",
        "  if row.QPS not in d:\n",
        "    if row.TPS in ['N','AJ','V','AD','P','PP','I','C']: \n",
        "      d[row.QPS] = [row.TPS]\n",
        "    else:\n",
        "      continue\n",
        "  elif row.TPS in ['N','AJ','V','AD','P','PP','I','C']: d[row.QPS].append(row.TPS)\n"
      ],
      "metadata": {
        "id": "RkBXuGrDGVph"
      },
      "execution_count": 101,
      "outputs": []
    },
    {
      "cell_type": "code",
      "source": [
        "lst = ['N','AJ','V','AD','P','PP','I','C']"
      ],
      "metadata": {
        "id": "jQ8zzXxODF0P"
      },
      "execution_count": 104,
      "outputs": []
    },
    {
      "cell_type": "code",
      "source": [
        "G = nx.Graph(d)"
      ],
      "metadata": {
        "id": "xsTP6kremj9R"
      },
      "execution_count": 107,
      "outputs": []
    },
    {
      "cell_type": "code",
      "source": [
        "nx.write_gml(G,'POS.gml')"
      ],
      "metadata": {
        "id": "0lCeAYDCDIf1"
      },
      "execution_count": 108,
      "outputs": []
    },
    {
      "cell_type": "code",
      "source": [
        "\n"
      ],
      "metadata": {
        "id": "nGlz6s5EDL6z"
      },
      "execution_count": 108,
      "outputs": []
    },
    {
      "cell_type": "code",
      "source": [
        ""
      ],
      "metadata": {
        "id": "Rs8ajgcvECC2"
      },
      "execution_count": null,
      "outputs": []
    }
  ]
}