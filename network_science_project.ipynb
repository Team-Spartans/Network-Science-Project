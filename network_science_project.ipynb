{
  "nbformat": 4,
  "nbformat_minor": 0,
  "metadata": {
    "colab": {
      "name": "network_science_project.ipynb",
      "provenance": [],
      "collapsed_sections": []
    },
    "kernelspec": {
      "name": "python3",
      "display_name": "Python 3"
    },
    "language_info": {
      "name": "python"
    }
  },
  "cells": [
    {
      "cell_type": "code",
      "execution_count": null,
      "metadata": {
        "colab": {
          "base_uri": "https://localhost:8080/"
        },
        "id": "7QxC6JSChvgP",
        "outputId": "dc902886-532f-4ed7-abf9-d7c047e0abc2"
      },
      "outputs": [
        {
          "output_type": "stream",
          "name": "stdout",
          "text": [
            "Mounted at /content/drive\n"
          ]
        }
      ],
      "source": [
        "from google.colab import drive\n",
        "drive.mount('/content/drive')"
      ]
    },
    {
      "cell_type": "markdown",
      "source": [
        "## Importing packages"
      ],
      "metadata": {
        "id": "Vhv_YARSjRB2"
      }
    },
    {
      "cell_type": "code",
      "source": [
        "import pandas as pd\n",
        "import networkx as nx"
      ],
      "metadata": {
        "id": "U5mvjhxujHZM"
      },
      "execution_count": null,
      "outputs": []
    },
    {
      "cell_type": "code",
      "source": [
        "# !ls \"/content/drive/MyDrive/Network Science Project Files\"\n"
      ],
      "metadata": {
        "id": "UVL1ZPnhimIj"
      },
      "execution_count": null,
      "outputs": []
    },
    {
      "cell_type": "code",
      "source": [
        "file_path = \"/content/drive/MyDrive/Network Science Project Files\""
      ],
      "metadata": {
        "id": "jnj_8hqAjOrZ"
      },
      "execution_count": null,
      "outputs": []
    },
    {
      "cell_type": "code",
      "source": [
        "df = pd.read_csv(file_path+'/all_records.csv')"
      ],
      "metadata": {
        "colab": {
          "base_uri": "https://localhost:8080/"
        },
        "id": "IOZkcJHhiXu-",
        "outputId": "edbab07f-cc5b-42e2-9441-1321db2fc97c"
      },
      "execution_count": null,
      "outputs": [
        {
          "output_type": "stream",
          "name": "stderr",
          "text": [
            "/usr/local/lib/python3.7/dist-packages/IPython/core/interactiveshell.py:2882: DtypeWarning: Columns (20,21,22,32) have mixed types.Specify dtype option on import or set low_memory=False.\n",
            "  exec(code_obj, self.user_global_ns, self.user_ns)\n"
          ]
        }
      ]
    },
    {
      "cell_type": "code",
      "source": [
        "# df.head()"
      ],
      "metadata": {
        "id": "J7n7bb1xip36"
      },
      "execution_count": null,
      "outputs": []
    },
    {
      "cell_type": "code",
      "source": [
        "df.columns = list(map(str.strip, df.columns))"
      ],
      "metadata": {
        "id": "bRQ5KXrppC0o"
      },
      "execution_count": null,
      "outputs": []
    },
    {
      "cell_type": "code",
      "source": [
        "df['NORMED?'] = df['NORMED?'].str.strip()\n",
        "df['CUE'] = df['CUE'].str.strip()\n",
        "df['TARGET'] = df['TARGET'].str.strip()\n",
        "df['TPS'] = df['TPS'].str.strip()\n",
        "df['QPS'] = df['QPS'].str.strip()"
      ],
      "metadata": {
        "id": "6w2iQtWKpM5j"
      },
      "execution_count": null,
      "outputs": []
    },
    {
      "cell_type": "code",
      "source": [
        "df = df[df['NORMED?']=='YES']"
      ],
      "metadata": {
        "id": "sUyPSqVqsrj3"
      },
      "execution_count": null,
      "outputs": []
    },
    {
      "cell_type": "code",
      "source": [
        "df = df[['CUE','TARGET','NORMED?','#G','#P','FSG','BSG','QPS','TPS']]"
      ],
      "metadata": {
        "id": "qX2mEwnqwJL1"
      },
      "execution_count": null,
      "outputs": []
    },
    {
      "cell_type": "markdown",
      "source": [
        "* CUE\tNormed Word\n",
        "* TARGET\tResponse to Normed Word\n",
        "* NORMED?\tIs Response Normed?\n",
        "* \\#G\tGroup size\n",
        "* \\#P\tNumber of Participants Producing Response\n",
        "* FSG\tForward Cue-to-Target Strength\n",
        "* BSG\tBackward Target-to-Cue Strength\n",
        "* QPS\tCue: Part of Speech\n",
        "* TPS\tTarget: Part of Speech\n",
        "\n",
        "\n",
        "\n"
      ],
      "metadata": {
        "id": "QrnOQGq0lIu6"
      }
    },
    {
      "cell_type": "code",
      "source": [
        "## filtering POS for CUES and TARGETS to be, nouns verbs and adjectives\n",
        "exclude_list = ['PP','AV','ADV','P','I','C','AD']\n",
        "df1 = df[~df['QPS'].str.contains('|'.join(exclude_list))]\n",
        "df1['TPS'] = df1['TPS'].dropna()\n",
        "df1 = df1[df1['TPS']!=' ']"
      ],
      "metadata": {
        "colab": {
          "base_uri": "https://localhost:8080/"
        },
        "id": "7kpqwz0C0O97",
        "outputId": "c5c9a42d-b08c-47cb-a7f3-443eddab094e"
      },
      "execution_count": null,
      "outputs": [
        {
          "output_type": "stream",
          "name": "stderr",
          "text": [
            "/usr/local/lib/python3.7/dist-packages/ipykernel_launcher.py:4: SettingWithCopyWarning: \n",
            "A value is trying to be set on a copy of a slice from a DataFrame.\n",
            "Try using .loc[row_indexer,col_indexer] = value instead\n",
            "\n",
            "See the caveats in the documentation: https://pandas.pydata.org/pandas-docs/stable/user_guide/indexing.html#returning-a-view-versus-a-copy\n",
            "  after removing the cwd from sys.path.\n"
          ]
        }
      ]
    },
    {
      "cell_type": "markdown",
      "source": [
        "* N\tNoun\n",
        "* V\tVerb\n",
        "* AJ\tAdjective\n",
        "* AD\tAdverb\n",
        "* P\tPronoun\n",
        "* PP\tPreposition\n",
        "* I\tInterjection\n",
        "* C\tConjunction"
      ],
      "metadata": {
        "id": "9jGS547fvJZ-"
      }
    },
    {
      "cell_type": "code",
      "source": [
        "df1['BSG'] = df1['BSG'].astype(float)"
      ],
      "metadata": {
        "id": "bMm4pIz8D3QP"
      },
      "execution_count": null,
      "outputs": []
    },
    {
      "cell_type": "markdown",
      "source": [
        "Filtering BSG to be 0 and the number of participants to be more than 2"
      ],
      "metadata": {
        "id": "AIttQebeCFrA"
      }
    },
    {
      "cell_type": "code",
      "source": [
        "df1 = df1[df1['BSG']==0]\n",
        "df1 = df1[df1['#P']>2]"
      ],
      "metadata": {
        "id": "J76HBEDyx790"
      },
      "execution_count": null,
      "outputs": []
    },
    {
      "cell_type": "code",
      "source": [
        ""
      ],
      "metadata": {
        "id": "TYdvf-scBfte"
      },
      "execution_count": null,
      "outputs": []
    },
    {
      "cell_type": "markdown",
      "source": [
        "## Graph for the Cues starting with letter A"
      ],
      "metadata": {
        "id": "DeVHM8oTB5hZ"
      }
    },
    {
      "cell_type": "code",
      "source": [
        "# df1_n_bsg_a_b = df1_n_bsg[(df1_n_bsg['CUE'].str.startswith('A')) | (df1_n_bsg['CUE'].str.startswith('B'))]\n",
        "df1_n_bsg_a = df1[(df1['CUE'].str.startswith('A'))]"
      ],
      "metadata": {
        "id": "JG2dCeeMmY5Z"
      },
      "execution_count": null,
      "outputs": []
    },
    {
      "cell_type": "code",
      "source": [
        "lst = list(set(list(df1_n_bsg_a['CUE'])+list(df1_n_bsg_a['TARGET'])))"
      ],
      "metadata": {
        "id": "uIezT9tjIEzb"
      },
      "execution_count": null,
      "outputs": []
    },
    {
      "cell_type": "code",
      "source": [
        "# G = nx.Graph()\n",
        "# for n in lst:\n",
        "#   G.add_node(n)\n",
        "# for row in df1_n_bsg_a.itertuples():\n",
        "#   # print(row.CUE)\n",
        "#   G.add_edge(row.CUE,row.TARGET)"
      ],
      "metadata": {
        "id": "hWdRgY_9InT1"
      },
      "execution_count": null,
      "outputs": []
    },
    {
      "cell_type": "code",
      "source": [
        "nx.write_gml(G,'cue_target.gml')"
      ],
      "metadata": {
        "id": "qxa0VystQzAH"
      },
      "execution_count": null,
      "outputs": []
    },
    {
      "cell_type": "markdown",
      "source": [
        "## Generating Graph for the the Parts of Speech of the Cues and the Target - Cues are already filtered for Nouns, Verbs and Adjectives"
      ],
      "metadata": {
        "id": "iYyBNBMRCgoB"
      }
    },
    {
      "cell_type": "code",
      "source": [
        "df1"
      ],
      "metadata": {
        "colab": {
          "base_uri": "https://localhost:8080/",
          "height": 419
        },
        "id": "NE2MewqCCwpb",
        "outputId": "2a5012d5-5c7f-4286-c413-f53ddf7d6f7d"
      },
      "execution_count": null,
      "outputs": [
        {
          "output_type": "execute_result",
          "data": {
            "text/plain": [
              "            CUE     TARGET NORMED?   #G  #P    FSG  BSG QPS TPS\n",
              "4             A     LETTER     YES  152   6  0.039  0.0   N   N\n",
              "5             A       PLUS     YES  152   5  0.033  0.0   N  PP\n",
              "13     AARDVARK     ANIMAL     YES  152  49  0.322  0.0   N   N\n",
              "14     AARDVARK        ANT     YES  152  30  0.197  0.0   N   N\n",
              "17     AARDVARK      MUSIC     YES  152   3  0.020  0.0   N   N\n",
              "...         ...        ...     ...  ...  ..    ...  ...  ..  ..\n",
              "63812  ZUCCHINI  VEGETABLE     YES  148  49  0.331  0.0   N   N\n",
              "63813  ZUCCHINI      GREEN     YES  148  22  0.149  0.0   N   N\n",
              "63815  ZUCCHINI       FOOD     YES  148  13  0.088  0.0   N   N\n",
              "63816  ZUCCHINI   BROCCOLI     YES  148   5  0.034  0.0   N   N\n",
              "63818  ZUCCHINI      NASTY     YES  148   3  0.020  0.0   N  AJ\n",
              "\n",
              "[25815 rows x 9 columns]"
            ],
            "text/html": [
              "\n",
              "  <div id=\"df-12e59205-0eaa-4c72-8c47-ed7f229c6ab9\">\n",
              "    <div class=\"colab-df-container\">\n",
              "      <div>\n",
              "<style scoped>\n",
              "    .dataframe tbody tr th:only-of-type {\n",
              "        vertical-align: middle;\n",
              "    }\n",
              "\n",
              "    .dataframe tbody tr th {\n",
              "        vertical-align: top;\n",
              "    }\n",
              "\n",
              "    .dataframe thead th {\n",
              "        text-align: right;\n",
              "    }\n",
              "</style>\n",
              "<table border=\"1\" class=\"dataframe\">\n",
              "  <thead>\n",
              "    <tr style=\"text-align: right;\">\n",
              "      <th></th>\n",
              "      <th>CUE</th>\n",
              "      <th>TARGET</th>\n",
              "      <th>NORMED?</th>\n",
              "      <th>#G</th>\n",
              "      <th>#P</th>\n",
              "      <th>FSG</th>\n",
              "      <th>BSG</th>\n",
              "      <th>QPS</th>\n",
              "      <th>TPS</th>\n",
              "    </tr>\n",
              "  </thead>\n",
              "  <tbody>\n",
              "    <tr>\n",
              "      <th>4</th>\n",
              "      <td>A</td>\n",
              "      <td>LETTER</td>\n",
              "      <td>YES</td>\n",
              "      <td>152</td>\n",
              "      <td>6</td>\n",
              "      <td>0.039</td>\n",
              "      <td>0.0</td>\n",
              "      <td>N</td>\n",
              "      <td>N</td>\n",
              "    </tr>\n",
              "    <tr>\n",
              "      <th>5</th>\n",
              "      <td>A</td>\n",
              "      <td>PLUS</td>\n",
              "      <td>YES</td>\n",
              "      <td>152</td>\n",
              "      <td>5</td>\n",
              "      <td>0.033</td>\n",
              "      <td>0.0</td>\n",
              "      <td>N</td>\n",
              "      <td>PP</td>\n",
              "    </tr>\n",
              "    <tr>\n",
              "      <th>13</th>\n",
              "      <td>AARDVARK</td>\n",
              "      <td>ANIMAL</td>\n",
              "      <td>YES</td>\n",
              "      <td>152</td>\n",
              "      <td>49</td>\n",
              "      <td>0.322</td>\n",
              "      <td>0.0</td>\n",
              "      <td>N</td>\n",
              "      <td>N</td>\n",
              "    </tr>\n",
              "    <tr>\n",
              "      <th>14</th>\n",
              "      <td>AARDVARK</td>\n",
              "      <td>ANT</td>\n",
              "      <td>YES</td>\n",
              "      <td>152</td>\n",
              "      <td>30</td>\n",
              "      <td>0.197</td>\n",
              "      <td>0.0</td>\n",
              "      <td>N</td>\n",
              "      <td>N</td>\n",
              "    </tr>\n",
              "    <tr>\n",
              "      <th>17</th>\n",
              "      <td>AARDVARK</td>\n",
              "      <td>MUSIC</td>\n",
              "      <td>YES</td>\n",
              "      <td>152</td>\n",
              "      <td>3</td>\n",
              "      <td>0.020</td>\n",
              "      <td>0.0</td>\n",
              "      <td>N</td>\n",
              "      <td>N</td>\n",
              "    </tr>\n",
              "    <tr>\n",
              "      <th>...</th>\n",
              "      <td>...</td>\n",
              "      <td>...</td>\n",
              "      <td>...</td>\n",
              "      <td>...</td>\n",
              "      <td>...</td>\n",
              "      <td>...</td>\n",
              "      <td>...</td>\n",
              "      <td>...</td>\n",
              "      <td>...</td>\n",
              "    </tr>\n",
              "    <tr>\n",
              "      <th>63812</th>\n",
              "      <td>ZUCCHINI</td>\n",
              "      <td>VEGETABLE</td>\n",
              "      <td>YES</td>\n",
              "      <td>148</td>\n",
              "      <td>49</td>\n",
              "      <td>0.331</td>\n",
              "      <td>0.0</td>\n",
              "      <td>N</td>\n",
              "      <td>N</td>\n",
              "    </tr>\n",
              "    <tr>\n",
              "      <th>63813</th>\n",
              "      <td>ZUCCHINI</td>\n",
              "      <td>GREEN</td>\n",
              "      <td>YES</td>\n",
              "      <td>148</td>\n",
              "      <td>22</td>\n",
              "      <td>0.149</td>\n",
              "      <td>0.0</td>\n",
              "      <td>N</td>\n",
              "      <td>N</td>\n",
              "    </tr>\n",
              "    <tr>\n",
              "      <th>63815</th>\n",
              "      <td>ZUCCHINI</td>\n",
              "      <td>FOOD</td>\n",
              "      <td>YES</td>\n",
              "      <td>148</td>\n",
              "      <td>13</td>\n",
              "      <td>0.088</td>\n",
              "      <td>0.0</td>\n",
              "      <td>N</td>\n",
              "      <td>N</td>\n",
              "    </tr>\n",
              "    <tr>\n",
              "      <th>63816</th>\n",
              "      <td>ZUCCHINI</td>\n",
              "      <td>BROCCOLI</td>\n",
              "      <td>YES</td>\n",
              "      <td>148</td>\n",
              "      <td>5</td>\n",
              "      <td>0.034</td>\n",
              "      <td>0.0</td>\n",
              "      <td>N</td>\n",
              "      <td>N</td>\n",
              "    </tr>\n",
              "    <tr>\n",
              "      <th>63818</th>\n",
              "      <td>ZUCCHINI</td>\n",
              "      <td>NASTY</td>\n",
              "      <td>YES</td>\n",
              "      <td>148</td>\n",
              "      <td>3</td>\n",
              "      <td>0.020</td>\n",
              "      <td>0.0</td>\n",
              "      <td>N</td>\n",
              "      <td>AJ</td>\n",
              "    </tr>\n",
              "  </tbody>\n",
              "</table>\n",
              "<p>25815 rows × 9 columns</p>\n",
              "</div>\n",
              "      <button class=\"colab-df-convert\" onclick=\"convertToInteractive('df-12e59205-0eaa-4c72-8c47-ed7f229c6ab9')\"\n",
              "              title=\"Convert this dataframe to an interactive table.\"\n",
              "              style=\"display:none;\">\n",
              "        \n",
              "  <svg xmlns=\"http://www.w3.org/2000/svg\" height=\"24px\"viewBox=\"0 0 24 24\"\n",
              "       width=\"24px\">\n",
              "    <path d=\"M0 0h24v24H0V0z\" fill=\"none\"/>\n",
              "    <path d=\"M18.56 5.44l.94 2.06.94-2.06 2.06-.94-2.06-.94-.94-2.06-.94 2.06-2.06.94zm-11 1L8.5 8.5l.94-2.06 2.06-.94-2.06-.94L8.5 2.5l-.94 2.06-2.06.94zm10 10l.94 2.06.94-2.06 2.06-.94-2.06-.94-.94-2.06-.94 2.06-2.06.94z\"/><path d=\"M17.41 7.96l-1.37-1.37c-.4-.4-.92-.59-1.43-.59-.52 0-1.04.2-1.43.59L10.3 9.45l-7.72 7.72c-.78.78-.78 2.05 0 2.83L4 21.41c.39.39.9.59 1.41.59.51 0 1.02-.2 1.41-.59l7.78-7.78 2.81-2.81c.8-.78.8-2.07 0-2.86zM5.41 20L4 18.59l7.72-7.72 1.47 1.35L5.41 20z\"/>\n",
              "  </svg>\n",
              "      </button>\n",
              "      \n",
              "  <style>\n",
              "    .colab-df-container {\n",
              "      display:flex;\n",
              "      flex-wrap:wrap;\n",
              "      gap: 12px;\n",
              "    }\n",
              "\n",
              "    .colab-df-convert {\n",
              "      background-color: #E8F0FE;\n",
              "      border: none;\n",
              "      border-radius: 50%;\n",
              "      cursor: pointer;\n",
              "      display: none;\n",
              "      fill: #1967D2;\n",
              "      height: 32px;\n",
              "      padding: 0 0 0 0;\n",
              "      width: 32px;\n",
              "    }\n",
              "\n",
              "    .colab-df-convert:hover {\n",
              "      background-color: #E2EBFA;\n",
              "      box-shadow: 0px 1px 2px rgba(60, 64, 67, 0.3), 0px 1px 3px 1px rgba(60, 64, 67, 0.15);\n",
              "      fill: #174EA6;\n",
              "    }\n",
              "\n",
              "    [theme=dark] .colab-df-convert {\n",
              "      background-color: #3B4455;\n",
              "      fill: #D2E3FC;\n",
              "    }\n",
              "\n",
              "    [theme=dark] .colab-df-convert:hover {\n",
              "      background-color: #434B5C;\n",
              "      box-shadow: 0px 1px 3px 1px rgba(0, 0, 0, 0.15);\n",
              "      filter: drop-shadow(0px 1px 2px rgba(0, 0, 0, 0.3));\n",
              "      fill: #FFFFFF;\n",
              "    }\n",
              "  </style>\n",
              "\n",
              "      <script>\n",
              "        const buttonEl =\n",
              "          document.querySelector('#df-12e59205-0eaa-4c72-8c47-ed7f229c6ab9 button.colab-df-convert');\n",
              "        buttonEl.style.display =\n",
              "          google.colab.kernel.accessAllowed ? 'block' : 'none';\n",
              "\n",
              "        async function convertToInteractive(key) {\n",
              "          const element = document.querySelector('#df-12e59205-0eaa-4c72-8c47-ed7f229c6ab9');\n",
              "          const dataTable =\n",
              "            await google.colab.kernel.invokeFunction('convertToInteractive',\n",
              "                                                     [key], {});\n",
              "          if (!dataTable) return;\n",
              "\n",
              "          const docLinkHtml = 'Like what you see? Visit the ' +\n",
              "            '<a target=\"_blank\" href=https://colab.research.google.com/notebooks/data_table.ipynb>data table notebook</a>'\n",
              "            + ' to learn more about interactive tables.';\n",
              "          element.innerHTML = '';\n",
              "          dataTable['output_type'] = 'display_data';\n",
              "          await google.colab.output.renderOutput(dataTable, element);\n",
              "          const docLink = document.createElement('div');\n",
              "          docLink.innerHTML = docLinkHtml;\n",
              "          element.appendChild(docLink);\n",
              "        }\n",
              "      </script>\n",
              "    </div>\n",
              "  </div>\n",
              "  "
            ]
          },
          "metadata": {},
          "execution_count": 49
        }
      ]
    },
    {
      "cell_type": "code",
      "source": [
        "df1.dtypes"
      ],
      "metadata": {
        "colab": {
          "base_uri": "https://localhost:8080/"
        },
        "id": "u6XUTKJZGIRj",
        "outputId": "2591bacd-b347-4bcd-bce4-fe9a4223e702"
      },
      "execution_count": null,
      "outputs": [
        {
          "output_type": "execute_result",
          "data": {
            "text/plain": [
              "CUE         object\n",
              "TARGET      object\n",
              "NORMED?     object\n",
              "#G           int64\n",
              "#P           int64\n",
              "FSG        float64\n",
              "BSG        float64\n",
              "QPS         object\n",
              "TPS         object\n",
              "dtype: object"
            ]
          },
          "metadata": {},
          "execution_count": 50
        }
      ]
    },
    {
      "cell_type": "code",
      "source": [
        "df1 = df1[df1['TPS']!='']"
      ],
      "metadata": {
        "id": "UJbMC6LvrAm5"
      },
      "execution_count": null,
      "outputs": []
    },
    {
      "cell_type": "code",
      "source": [
        "df1['TPS'].value_counts()"
      ],
      "metadata": {
        "colab": {
          "base_uri": "https://localhost:8080/"
        },
        "id": "vrlr8X3GFpFq",
        "outputId": "bbec3cd2-0dbe-4949-c0d1-c86a4df2a565"
      },
      "execution_count": null,
      "outputs": [
        {
          "output_type": "execute_result",
          "data": {
            "text/plain": [
              "N      16739\n",
              "AJ      4321\n",
              "V       4047\n",
              "AD       425\n",
              "P         75\n",
              "ADJ       71\n",
              "PP        55\n",
              "I         33\n",
              "A          6\n",
              "INT        4\n",
              "AV         3\n",
              "PRP        2\n",
              "C          2\n",
              "Name: TPS, dtype: int64"
            ]
          },
          "metadata": {},
          "execution_count": 58
        }
      ]
    },
    {
      "cell_type": "code",
      "source": [
        "df1 = df1.dropna()"
      ],
      "metadata": {
        "id": "ih0fTVgMGPS_"
      },
      "execution_count": null,
      "outputs": []
    },
    {
      "cell_type": "code",
      "source": [
        "include_list = ['N','V','AJ','AD','P','PP','I','C']\n",
        "df1 = df1[df1['TPS'].str.contains('|'.join(include_list))]"
      ],
      "metadata": {
        "id": "vzvTu_EpFBkq"
      },
      "execution_count": null,
      "outputs": []
    },
    {
      "cell_type": "code",
      "source": [
        "('AD','ADJ')==('AD','V')"
      ],
      "metadata": {
        "colab": {
          "base_uri": "https://localhost:8080/"
        },
        "id": "2VVAXC0Dsr8J",
        "outputId": "efdd8ed9-3762-4483-8fb7-04e81068de88"
      },
      "execution_count": null,
      "outputs": [
        {
          "output_type": "execute_result",
          "data": {
            "text/plain": [
              "False"
            ]
          },
          "metadata": {},
          "execution_count": 69
        }
      ]
    },
    {
      "cell_type": "code",
      "source": [
        "df_group = df1.groupby(['QPS','TPS']).mean()\n",
        "df_group = df_group.reset_index()\n"
      ],
      "metadata": {
        "id": "zXD3-5R1sHdy"
      },
      "execution_count": null,
      "outputs": []
    },
    {
      "cell_type": "code",
      "source": [
        "d_weights = {}\n",
        "for row in df_group.itertuples():\n",
        "  d_weights[(row.QPS,row.TPS)]=row.FSG"
      ],
      "metadata": {
        "id": "DRquVJnPtPzW"
      },
      "execution_count": null,
      "outputs": []
    },
    {
      "cell_type": "code",
      "source": [
        ""
      ],
      "metadata": {
        "id": "RLZbxxfZtd22"
      },
      "execution_count": null,
      "outputs": []
    },
    {
      "cell_type": "code",
      "source": [
        "# d = {}\n",
        "# for row in df1.itertuples():\n",
        "#   # print(row.TPS)\n",
        "#   if row.QPS not in d:\n",
        "#     if row.TPS in ['N','AJ','V','AD','P','PP','I','C']: \n",
        "#       d[row.QPS] = [row.TPS]\n",
        "#     else:\n",
        "#       continue\n",
        "#   elif row.TPS in ['N','AJ','V','AD','P','PP','I','C']: d[row.QPS].append(row.TPS)\n"
      ],
      "metadata": {
        "id": "RkBXuGrDGVph"
      },
      "execution_count": null,
      "outputs": []
    },
    {
      "cell_type": "code",
      "source": [
        "lst = ['N','AJ','V','AD','P','PP','I','C']"
      ],
      "metadata": {
        "id": "jQ8zzXxODF0P"
      },
      "execution_count": null,
      "outputs": []
    },
    {
      "cell_type": "code",
      "source": [
        "G = nx.Graph()\n",
        "for n in lst:\n",
        "  G.add_node(n)\n",
        "for row in df1.itertuples():\n",
        "  if row.TPS in ['N','AJ','V','AD','P','PP','I','C']: \n",
        "    G.add_edge(row.QPS,row.TPS,weight = d_weights[(row.QPS,row.TPS)])"
      ],
      "metadata": {
        "id": "laCFVP15trs2"
      },
      "execution_count": null,
      "outputs": []
    },
    {
      "cell_type": "code",
      "source": [
        "G.nodes()"
      ],
      "metadata": {
        "colab": {
          "base_uri": "https://localhost:8080/"
        },
        "id": "7UxCp0nBqh_q",
        "outputId": "f77f173c-051a-45b9-d6b3-d231730433fc"
      },
      "execution_count": null,
      "outputs": [
        {
          "output_type": "execute_result",
          "data": {
            "text/plain": [
              "NodeView(('N', 'AJ', 'V', 'AD', 'P', 'PP', 'I', 'C'))"
            ]
          },
          "metadata": {},
          "execution_count": 84
        }
      ]
    },
    {
      "cell_type": "code",
      "source": [
        "nx.write_gml(G,'POS.gml')"
      ],
      "metadata": {
        "id": "0lCeAYDCDIf1"
      },
      "execution_count": null,
      "outputs": []
    },
    {
      "cell_type": "code",
      "source": [
        "\n"
      ],
      "metadata": {
        "id": "nGlz6s5EDL6z"
      },
      "execution_count": null,
      "outputs": []
    },
    {
      "cell_type": "code",
      "source": [
        ""
      ],
      "metadata": {
        "id": "Rs8ajgcvECC2"
      },
      "execution_count": null,
      "outputs": []
    }
  ]
}