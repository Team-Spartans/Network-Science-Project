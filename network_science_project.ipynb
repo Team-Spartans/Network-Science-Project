{
  "nbformat": 4,
  "nbformat_minor": 0,
  "metadata": {
    "colab": {
      "name": "network_science_project.ipynb",
      "provenance": [],
      "collapsed_sections": []
    },
    "kernelspec": {
      "name": "python3",
      "display_name": "Python 3"
    },
    "language_info": {
      "name": "python"
    }
  },
  "cells": [
    {
      "cell_type": "code",
      "execution_count": 52,
      "metadata": {
        "colab": {
          "base_uri": "https://localhost:8080/"
        },
        "id": "7QxC6JSChvgP",
        "outputId": "945b515e-378f-41e6-f2c0-4d0c2bf2cad7"
      },
      "outputs": [
        {
          "output_type": "stream",
          "name": "stdout",
          "text": [
            "Drive already mounted at /content/drive; to attempt to forcibly remount, call drive.mount(\"/content/drive\", force_remount=True).\n"
          ]
        }
      ],
      "source": [
        "from google.colab import drive\n",
        "drive.mount('/content/drive')"
      ]
    },
    {
      "cell_type": "markdown",
      "source": [
        "## Importing packages"
      ],
      "metadata": {
        "id": "Vhv_YARSjRB2"
      }
    },
    {
      "cell_type": "code",
      "source": [
        "import pandas as pd\n",
        "import networkx as nx"
      ],
      "metadata": {
        "id": "U5mvjhxujHZM"
      },
      "execution_count": 289,
      "outputs": []
    },
    {
      "cell_type": "code",
      "source": [
        "# !ls \"/content/drive/MyDrive/Network Science Project Files\"\n"
      ],
      "metadata": {
        "id": "UVL1ZPnhimIj"
      },
      "execution_count": 54,
      "outputs": []
    },
    {
      "cell_type": "code",
      "source": [
        "file_path = \"/content/drive/MyDrive/Network Science Project Files\""
      ],
      "metadata": {
        "id": "jnj_8hqAjOrZ"
      },
      "execution_count": 55,
      "outputs": []
    },
    {
      "cell_type": "code",
      "source": [
        "df = pd.read_csv(file_path+'/all_records.csv')"
      ],
      "metadata": {
        "colab": {
          "base_uri": "https://localhost:8080/"
        },
        "id": "IOZkcJHhiXu-",
        "outputId": "a501f435-2c16-4462-fb9e-01f4c908e55b"
      },
      "execution_count": 275,
      "outputs": [
        {
          "output_type": "stream",
          "name": "stderr",
          "text": [
            "/usr/local/lib/python3.7/dist-packages/IPython/core/interactiveshell.py:2882: DtypeWarning: Columns (20,21,22,32) have mixed types.Specify dtype option on import or set low_memory=False.\n",
            "  exec(code_obj, self.user_global_ns, self.user_ns)\n"
          ]
        }
      ]
    },
    {
      "cell_type": "code",
      "source": [
        "# df.head()"
      ],
      "metadata": {
        "id": "J7n7bb1xip36"
      },
      "execution_count": 276,
      "outputs": []
    },
    {
      "cell_type": "code",
      "source": [
        "df.columns = list(map(str.strip, df.columns))"
      ],
      "metadata": {
        "id": "bRQ5KXrppC0o"
      },
      "execution_count": 277,
      "outputs": []
    },
    {
      "cell_type": "code",
      "source": [
        "df['NORMED?'] = df['NORMED?'].str.strip()\n",
        "df['CUE'] = df['CUE'].str.strip()\n",
        "df['TARGET'] = df['TARGET'].str.strip()"
      ],
      "metadata": {
        "id": "6w2iQtWKpM5j"
      },
      "execution_count": 278,
      "outputs": []
    },
    {
      "cell_type": "code",
      "source": [
        "df = df[df['NORMED?']=='YES']"
      ],
      "metadata": {
        "id": "sUyPSqVqsrj3"
      },
      "execution_count": 279,
      "outputs": []
    },
    {
      "cell_type": "code",
      "source": [
        "df = df[['CUE','TARGET','NORMED?','#G','#P','FSG','BSG','QPS','TPS']]"
      ],
      "metadata": {
        "id": "qX2mEwnqwJL1"
      },
      "execution_count": 280,
      "outputs": []
    },
    {
      "cell_type": "markdown",
      "source": [
        "* CUE\tNormed Word\n",
        "* TARGET\tResponse to Normed Word\n",
        "* NORMED?\tIs Response Normed?\n",
        "* \\#G\tGroup size\n",
        "* \\#P\tNumber of Participants Producing Response\n",
        "* FSG\tForward Cue-to-Target Strength\n",
        "* BSG\tBackward Target-to-Cue Strength\n",
        "* QPS\tCue: Part of Speech\n",
        "* TPS\tTarget: Part of Speech\n",
        "\n",
        "\n",
        "\n"
      ],
      "metadata": {
        "id": "QrnOQGq0lIu6"
      }
    },
    {
      "cell_type": "code",
      "source": [
        "## filtering POS for CUES and TARGETS to be, nouns verbs and adjectives\n",
        "exclude_list = ['PP','AV','ADV','P','I','C']\n",
        "df1 = df[~df['QPS'].str.contains('|'.join(exclude_list))]\n",
        "df1['TPS'] = df1['TPS'].dropna()\n",
        "df1 = df1[df1['TPS']!=' ']"
      ],
      "metadata": {
        "colab": {
          "base_uri": "https://localhost:8080/"
        },
        "id": "7kpqwz0C0O97",
        "outputId": "6e0d661c-451c-4e07-c1a6-9368a98fcaa5"
      },
      "execution_count": 281,
      "outputs": [
        {
          "output_type": "stream",
          "name": "stderr",
          "text": [
            "/usr/local/lib/python3.7/dist-packages/ipykernel_launcher.py:4: SettingWithCopyWarning: \n",
            "A value is trying to be set on a copy of a slice from a DataFrame.\n",
            "Try using .loc[row_indexer,col_indexer] = value instead\n",
            "\n",
            "See the caveats in the documentation: https://pandas.pydata.org/pandas-docs/stable/user_guide/indexing.html#returning-a-view-versus-a-copy\n",
            "  after removing the cwd from sys.path.\n"
          ]
        }
      ]
    },
    {
      "cell_type": "markdown",
      "source": [
        "* N\tNoun\n",
        "* V\tVerb\n",
        "* AJ\tAdjective\n",
        "* AD\tAdverb\n",
        "* P\tPronoun\n",
        "* PP\tPreposition\n",
        "* I\tInterjection\n",
        "* C\tConjunction"
      ],
      "metadata": {
        "id": "9jGS547fvJZ-"
      }
    },
    {
      "cell_type": "code",
      "source": [
        "df1['BSG'] = df1['BSG'].astype(float)"
      ],
      "metadata": {
        "id": "bMm4pIz8D3QP"
      },
      "execution_count": 282,
      "outputs": []
    },
    {
      "cell_type": "code",
      "source": [
        "df1_n_bsg = df1[df1['BSG']==0]\n",
        "df1_n_bsg = df1_n_bsg[df1_n_bsg['#P']>2]"
      ],
      "metadata": {
        "id": "J76HBEDyx790"
      },
      "execution_count": 283,
      "outputs": []
    },
    {
      "cell_type": "code",
      "source": [
        "# df1_n_bsg_a_b = df1_n_bsg[(df1_n_bsg['CUE'].str.startswith('A')) | (df1_n_bsg['CUE'].str.startswith('B'))]\n",
        "df1_n_bsg_a = df1_n_bsg[(df1_n_bsg['CUE'].str.startswith('A'))]"
      ],
      "metadata": {
        "id": "JG2dCeeMmY5Z"
      },
      "execution_count": 327,
      "outputs": []
    },
    {
      "cell_type": "code",
      "source": [
        "lst = list(set(list(df1_n_bsg_a['CUE'])+list(df1_n_bsg_a['TARGET'])))"
      ],
      "metadata": {
        "id": "uIezT9tjIEzb"
      },
      "execution_count": 328,
      "outputs": []
    },
    {
      "cell_type": "code",
      "source": [
        "G = nx.Graph()"
      ],
      "metadata": {
        "id": "QtyV7qLMInRt"
      },
      "execution_count": 329,
      "outputs": []
    },
    {
      "cell_type": "code",
      "source": [
        "for n in lst:\n",
        "  G.add_node(n)\n"
      ],
      "metadata": {
        "id": "hWdRgY_9InT1"
      },
      "execution_count": 330,
      "outputs": []
    },
    {
      "cell_type": "code",
      "source": [
        "for row in df1_n_bsg_a.itertuples():\n",
        "  # print(row.CUE)\n",
        "  G.add_edge(row.CUE,row.TARGET)"
      ],
      "metadata": {
        "id": "RwG-fwW5InW3"
      },
      "execution_count": 331,
      "outputs": []
    },
    {
      "cell_type": "code",
      "source": [
        "nx.write_gml(G,'cue_target.gml')"
      ],
      "metadata": {
        "id": "qxa0VystQzAH"
      },
      "execution_count": 333,
      "outputs": []
    },
    {
      "cell_type": "code",
      "source": [
        ""
      ],
      "metadata": {
        "id": "m1CZ459JInav"
      },
      "execution_count": null,
      "outputs": []
    },
    {
      "cell_type": "code",
      "source": [
        ""
      ],
      "metadata": {
        "id": "v6OIMFs-Inc1"
      },
      "execution_count": null,
      "outputs": []
    }
  ]
}